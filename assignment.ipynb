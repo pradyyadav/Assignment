{
 "cells": [
  {
   "cell_type": "code",
   "execution_count": 1,
   "id": "defined-effort",
   "metadata": {},
   "outputs": [],
   "source": [
    "import pandas as pd\n",
    "import numpy as np\n",
    "import matplotlib.pyplot as plt\n",
    "import seaborn as sns"
   ]
  },
  {
   "cell_type": "code",
   "execution_count": 2,
   "id": "copyrighted-treaty",
   "metadata": {},
   "outputs": [
    {
     "data": {
      "text/html": [
       "<div>\n",
       "<style scoped>\n",
       "    .dataframe tbody tr th:only-of-type {\n",
       "        vertical-align: middle;\n",
       "    }\n",
       "\n",
       "    .dataframe tbody tr th {\n",
       "        vertical-align: top;\n",
       "    }\n",
       "\n",
       "    .dataframe thead th {\n",
       "        text-align: right;\n",
       "    }\n",
       "</style>\n",
       "<table border=\"1\" class=\"dataframe\">\n",
       "  <thead>\n",
       "    <tr style=\"text-align: right;\">\n",
       "      <th></th>\n",
       "      <th>variance</th>\n",
       "      <th>skewness</th>\n",
       "      <th>curtosis</th>\n",
       "      <th>entropy</th>\n",
       "      <th>class</th>\n",
       "    </tr>\n",
       "  </thead>\n",
       "  <tbody>\n",
       "    <tr>\n",
       "      <th>0</th>\n",
       "      <td>3.62160</td>\n",
       "      <td>8.66610</td>\n",
       "      <td>-2.8073</td>\n",
       "      <td>-0.44699</td>\n",
       "      <td>0</td>\n",
       "    </tr>\n",
       "    <tr>\n",
       "      <th>1</th>\n",
       "      <td>4.54590</td>\n",
       "      <td>8.16740</td>\n",
       "      <td>-2.4586</td>\n",
       "      <td>-1.46210</td>\n",
       "      <td>0</td>\n",
       "    </tr>\n",
       "    <tr>\n",
       "      <th>2</th>\n",
       "      <td>3.86600</td>\n",
       "      <td>-2.63830</td>\n",
       "      <td>1.9242</td>\n",
       "      <td>0.10645</td>\n",
       "      <td>0</td>\n",
       "    </tr>\n",
       "    <tr>\n",
       "      <th>3</th>\n",
       "      <td>3.45660</td>\n",
       "      <td>9.52280</td>\n",
       "      <td>-4.0112</td>\n",
       "      <td>-3.59440</td>\n",
       "      <td>0</td>\n",
       "    </tr>\n",
       "    <tr>\n",
       "      <th>4</th>\n",
       "      <td>0.32924</td>\n",
       "      <td>-4.45520</td>\n",
       "      <td>4.5718</td>\n",
       "      <td>-0.98880</td>\n",
       "      <td>0</td>\n",
       "    </tr>\n",
       "    <tr>\n",
       "      <th>...</th>\n",
       "      <td>...</td>\n",
       "      <td>...</td>\n",
       "      <td>...</td>\n",
       "      <td>...</td>\n",
       "      <td>...</td>\n",
       "    </tr>\n",
       "    <tr>\n",
       "      <th>1367</th>\n",
       "      <td>0.40614</td>\n",
       "      <td>1.34920</td>\n",
       "      <td>-1.4501</td>\n",
       "      <td>-0.55949</td>\n",
       "      <td>1</td>\n",
       "    </tr>\n",
       "    <tr>\n",
       "      <th>1368</th>\n",
       "      <td>-1.38870</td>\n",
       "      <td>-4.87730</td>\n",
       "      <td>6.4774</td>\n",
       "      <td>0.34179</td>\n",
       "      <td>1</td>\n",
       "    </tr>\n",
       "    <tr>\n",
       "      <th>1369</th>\n",
       "      <td>-3.75030</td>\n",
       "      <td>-13.45860</td>\n",
       "      <td>17.5932</td>\n",
       "      <td>-2.77710</td>\n",
       "      <td>1</td>\n",
       "    </tr>\n",
       "    <tr>\n",
       "      <th>1370</th>\n",
       "      <td>-3.56370</td>\n",
       "      <td>-8.38270</td>\n",
       "      <td>12.3930</td>\n",
       "      <td>-1.28230</td>\n",
       "      <td>1</td>\n",
       "    </tr>\n",
       "    <tr>\n",
       "      <th>1371</th>\n",
       "      <td>-2.54190</td>\n",
       "      <td>-0.65804</td>\n",
       "      <td>2.6842</td>\n",
       "      <td>1.19520</td>\n",
       "      <td>1</td>\n",
       "    </tr>\n",
       "  </tbody>\n",
       "</table>\n",
       "<p>1372 rows × 5 columns</p>\n",
       "</div>"
      ],
      "text/plain": [
       "      variance  skewness  curtosis  entropy  class\n",
       "0      3.62160   8.66610   -2.8073 -0.44699      0\n",
       "1      4.54590   8.16740   -2.4586 -1.46210      0\n",
       "2      3.86600  -2.63830    1.9242  0.10645      0\n",
       "3      3.45660   9.52280   -4.0112 -3.59440      0\n",
       "4      0.32924  -4.45520    4.5718 -0.98880      0\n",
       "...        ...       ...       ...      ...    ...\n",
       "1367   0.40614   1.34920   -1.4501 -0.55949      1\n",
       "1368  -1.38870  -4.87730    6.4774  0.34179      1\n",
       "1369  -3.75030 -13.45860   17.5932 -2.77710      1\n",
       "1370  -3.56370  -8.38270   12.3930 -1.28230      1\n",
       "1371  -2.54190  -0.65804    2.6842  1.19520      1\n",
       "\n",
       "[1372 rows x 5 columns]"
      ]
     },
     "execution_count": 2,
     "metadata": {},
     "output_type": "execute_result"
    }
   ],
   "source": [
    "data = pd.read_csv('BankNote_Authentication.csv')\n",
    "data"
   ]
  },
  {
   "cell_type": "code",
   "execution_count": 3,
   "id": "active-manchester",
   "metadata": {},
   "outputs": [
    {
     "data": {
      "text/html": [
       "<div>\n",
       "<style scoped>\n",
       "    .dataframe tbody tr th:only-of-type {\n",
       "        vertical-align: middle;\n",
       "    }\n",
       "\n",
       "    .dataframe tbody tr th {\n",
       "        vertical-align: top;\n",
       "    }\n",
       "\n",
       "    .dataframe thead th {\n",
       "        text-align: right;\n",
       "    }\n",
       "</style>\n",
       "<table border=\"1\" class=\"dataframe\">\n",
       "  <thead>\n",
       "    <tr style=\"text-align: right;\">\n",
       "      <th></th>\n",
       "      <th>variance</th>\n",
       "      <th>skewness</th>\n",
       "      <th>curtosis</th>\n",
       "      <th>entropy</th>\n",
       "      <th>class</th>\n",
       "    </tr>\n",
       "  </thead>\n",
       "  <tbody>\n",
       "    <tr>\n",
       "      <th>count</th>\n",
       "      <td>1372.000000</td>\n",
       "      <td>1372.000000</td>\n",
       "      <td>1372.000000</td>\n",
       "      <td>1372.000000</td>\n",
       "      <td>1372.000000</td>\n",
       "    </tr>\n",
       "    <tr>\n",
       "      <th>mean</th>\n",
       "      <td>0.433735</td>\n",
       "      <td>1.922353</td>\n",
       "      <td>1.397627</td>\n",
       "      <td>-1.191657</td>\n",
       "      <td>0.444606</td>\n",
       "    </tr>\n",
       "    <tr>\n",
       "      <th>std</th>\n",
       "      <td>2.842763</td>\n",
       "      <td>5.869047</td>\n",
       "      <td>4.310030</td>\n",
       "      <td>2.101013</td>\n",
       "      <td>0.497103</td>\n",
       "    </tr>\n",
       "    <tr>\n",
       "      <th>min</th>\n",
       "      <td>-7.042100</td>\n",
       "      <td>-13.773100</td>\n",
       "      <td>-5.286100</td>\n",
       "      <td>-8.548200</td>\n",
       "      <td>0.000000</td>\n",
       "    </tr>\n",
       "    <tr>\n",
       "      <th>25%</th>\n",
       "      <td>-1.773000</td>\n",
       "      <td>-1.708200</td>\n",
       "      <td>-1.574975</td>\n",
       "      <td>-2.413450</td>\n",
       "      <td>0.000000</td>\n",
       "    </tr>\n",
       "    <tr>\n",
       "      <th>50%</th>\n",
       "      <td>0.496180</td>\n",
       "      <td>2.319650</td>\n",
       "      <td>0.616630</td>\n",
       "      <td>-0.586650</td>\n",
       "      <td>0.000000</td>\n",
       "    </tr>\n",
       "    <tr>\n",
       "      <th>75%</th>\n",
       "      <td>2.821475</td>\n",
       "      <td>6.814625</td>\n",
       "      <td>3.179250</td>\n",
       "      <td>0.394810</td>\n",
       "      <td>1.000000</td>\n",
       "    </tr>\n",
       "    <tr>\n",
       "      <th>max</th>\n",
       "      <td>6.824800</td>\n",
       "      <td>12.951600</td>\n",
       "      <td>17.927400</td>\n",
       "      <td>2.449500</td>\n",
       "      <td>1.000000</td>\n",
       "    </tr>\n",
       "  </tbody>\n",
       "</table>\n",
       "</div>"
      ],
      "text/plain": [
       "          variance     skewness     curtosis      entropy        class\n",
       "count  1372.000000  1372.000000  1372.000000  1372.000000  1372.000000\n",
       "mean      0.433735     1.922353     1.397627    -1.191657     0.444606\n",
       "std       2.842763     5.869047     4.310030     2.101013     0.497103\n",
       "min      -7.042100   -13.773100    -5.286100    -8.548200     0.000000\n",
       "25%      -1.773000    -1.708200    -1.574975    -2.413450     0.000000\n",
       "50%       0.496180     2.319650     0.616630    -0.586650     0.000000\n",
       "75%       2.821475     6.814625     3.179250     0.394810     1.000000\n",
       "max       6.824800    12.951600    17.927400     2.449500     1.000000"
      ]
     },
     "execution_count": 3,
     "metadata": {},
     "output_type": "execute_result"
    }
   ],
   "source": [
    "data.describe()"
   ]
  },
  {
   "cell_type": "code",
   "execution_count": 4,
   "id": "suited-number",
   "metadata": {},
   "outputs": [
    {
     "name": "stdout",
     "output_type": "stream",
     "text": [
      "<class 'pandas.core.frame.DataFrame'>\n",
      "RangeIndex: 1372 entries, 0 to 1371\n",
      "Data columns (total 5 columns):\n",
      " #   Column    Non-Null Count  Dtype  \n",
      "---  ------    --------------  -----  \n",
      " 0   variance  1372 non-null   float64\n",
      " 1   skewness  1372 non-null   float64\n",
      " 2   curtosis  1372 non-null   float64\n",
      " 3   entropy   1372 non-null   float64\n",
      " 4   class     1372 non-null   int64  \n",
      "dtypes: float64(4), int64(1)\n",
      "memory usage: 53.7 KB\n"
     ]
    }
   ],
   "source": [
    "data.info()"
   ]
  },
  {
   "cell_type": "code",
   "execution_count": 5,
   "id": "italian-external",
   "metadata": {},
   "outputs": [
    {
     "data": {
      "text/plain": [
       "0    762\n",
       "1    610\n",
       "Name: class, dtype: int64"
      ]
     },
     "execution_count": 5,
     "metadata": {},
     "output_type": "execute_result"
    }
   ],
   "source": [
    "data['class'].value_counts()"
   ]
  },
  {
   "cell_type": "code",
   "execution_count": 6,
   "id": "victorian-netherlands",
   "metadata": {},
   "outputs": [],
   "source": [
    "X = data.drop('class',axis=1)\n",
    "y = data['class']"
   ]
  },
  {
   "cell_type": "code",
   "execution_count": 7,
   "id": "centered-hotel",
   "metadata": {},
   "outputs": [],
   "source": [
    "y = np.array(y).reshape(-1,1)"
   ]
  },
  {
   "cell_type": "code",
   "execution_count": 8,
   "id": "satellite-minneapolis",
   "metadata": {},
   "outputs": [],
   "source": [
    "classes = data['class'].unique()"
   ]
  },
  {
   "cell_type": "code",
   "execution_count": 9,
   "id": "collective-negative",
   "metadata": {},
   "outputs": [
    {
     "data": {
      "text/plain": [
       "array([0, 1])"
      ]
     },
     "execution_count": 9,
     "metadata": {},
     "output_type": "execute_result"
    }
   ],
   "source": [
    "classes"
   ]
  },
  {
   "cell_type": "code",
   "execution_count": 10,
   "id": "precious-traffic",
   "metadata": {},
   "outputs": [
    {
     "data": {
      "text/plain": [
       "Text(0, 0.5, 'Skewness')"
      ]
     },
     "execution_count": 10,
     "metadata": {},
     "output_type": "execute_result"
    },
    {
     "data": {
      "image/png": "[encoded data removed]",
      "text/plain": [
       "<Figure size 432x288 with 1 Axes>"
      ]
     },
     "metadata": {
      "needs_background": "light"
     },
     "output_type": "display_data"
    }
   ],
   "source": [
    "plt.scatter(data['variance'],data['skewness'],c=data['class'],cmap='PuOr')\n",
    "plt.xlabel('Variance')\n",
    "plt.ylabel('Skewness')"
   ]
  },
  {
   "cell_type": "code",
   "execution_count": 11,
   "id": "backed-reverse",
   "metadata": {},
   "outputs": [
    {
     "data": {
      "text/plain": [
       "<matplotlib.collections.PathCollection at 0x7f7ef51b35b0>"
      ]
     },
     "execution_count": 11,
     "metadata": {},
     "output_type": "execute_result"
    },
    {
     "data": {
      "image/png": "[encoded data removed]",
      "text/plain": [
       "<Figure size 432x288 with 1 Axes>"
      ]
     },
     "metadata": {
      "needs_background": "light"
     },
     "output_type": "display_data"
    }
   ],
   "source": [
    "plt.scatter(data['curtosis'],data['entropy'],c=data['class'],cmap='PuOr')"
   ]
  },
  {
   "cell_type": "code",
   "execution_count": 12,
   "id": "abandoned-enhancement",
   "metadata": {},
   "outputs": [
    {
     "data": {
      "text/plain": [
       "<AxesSubplot:>"
      ]
     },
     "execution_count": 12,
     "metadata": {},
     "output_type": "execute_result"
    },
    {
     "data": {
      "image/png": "[encoded data removed]",
      "text/plain": [
       "<Figure size 432x288 with 2 Axes>"
      ]
     },
     "metadata": {
      "needs_background": "light"
     },
     "output_type": "display_data"
    }
   ],
   "source": [
    "corr = data.corr()\n",
    "sns.heatmap(corr,annot=True,cmap='YlGn')"
   ]
  },
  {
   "cell_type": "code",
   "execution_count": 13,
   "id": "alpine-intervention",
   "metadata": {},
   "outputs": [],
   "source": [
    "from sklearn.model_selection import train_test_split\n",
    "X_train,X_test,y_train,y_test = train_test_split(X,y,test_size = 0.28,random_state=42)"
   ]
  },
  {
   "cell_type": "code",
   "execution_count": 14,
   "id": "billion-shopper",
   "metadata": {},
   "outputs": [
    {
     "name": "stdout",
     "output_type": "stream",
     "text": [
      "X_train: (4, 987)\n",
      "y_train: (1, 987)\n"
     ]
    }
   ],
   "source": [
    "X_train = X_train.T\n",
    "y_train = y_train.T\n",
    "\n",
    "X_test = X_test.T\n",
    "y_test = y_test.T\n",
    "\n",
    "print(\"X_train: {}\".format(X_train.shape))\n",
    "print(\"y_train: {}\".format(y_train.shape))"
   ]
  },
  {
   "cell_type": "code",
   "execution_count": 15,
   "id": "focal-warren",
   "metadata": {},
   "outputs": [
    {
     "name": "stdout",
     "output_type": "stream",
     "text": [
      "input_shape: 4\n",
      "hidden_shape: 4\n",
      "output_shape: 1\n"
     ]
    }
   ],
   "source": [
    "def model(X,y):\n",
    "    input_layer = X.shape[0]\n",
    "    hidden_layer = 4\n",
    "    output_layer = y.shape[0]\n",
    "    return (input_layer, hidden_layer, output_layer)\n",
    "\n",
    "(input_layer,hidden_layer,output_layer) = model(X_train,y_train)\n",
    "\n",
    "print(\"input_shape: {}\".format(input_layer))\n",
    "print(\"hidden_shape: {}\".format(hidden_layer))\n",
    "print(\"output_shape: {}\".format(output_layer))"
   ]
  },
  {
   "cell_type": "code",
   "execution_count": 16,
   "id": "solar-distributor",
   "metadata": {},
   "outputs": [],
   "source": [
    "def parameter_declare(input_unit, hidden_unit, output_unit):\n",
    "    np.random.seed(2)\n",
    "    W1 = np.random.randn(hidden_unit,input_unit)*0.01\n",
    "    b1 = np.random.randn(hidden_unit,1)\n",
    "    W2 = np.random.randn(output_unit,hidden_unit)*0.01\n",
    "    b2 = np.random.randn(output_unit,1)\n",
    "    k0 = np.random.randn(1,1)\n",
    "    k1 = np.random.randn(1,1)\n",
    "    parameters = {\"W1\":W1,\n",
    "                  \"b1\":b1,\n",
    "                  \"W2\":W2,\n",
    "                  \"b2\":b2,\n",
    "                  \"k0\":k0,\n",
    "                  \"k1\":k1}\n",
    "    return parameters"
   ]
  },
  {
   "cell_type": "code",
   "execution_count": 17,
   "id": "continental-martin",
   "metadata": {},
   "outputs": [],
   "source": [
    "def sigmoid(z):\n",
    "    return 1/(1+np.exp(-z))\n",
    "\n",
    "def hidden_activation(z,k0,k1):\n",
    "    return k0 + k1*z \n",
    "\n",
    "def forward_propagation(X, parameters):\n",
    "    W1 = parameters['W1']\n",
    "    b1 = parameters['b1']\n",
    "    W2 = parameters['W2']\n",
    "    b2 = parameters['b2']\n",
    "    k0 = parameters['k0']\n",
    "    k1 = parameters['k1']\n",
    "    \n",
    "    Z1 = np.dot(W1,X) + b1\n",
    "    A1 = hidden_activation(Z1,k0,k1) # might require some changes\n",
    "    Z2 = np.dot(W2,A1) + b2\n",
    "    A2 = sigmoid(Z2)\n",
    "    cache = {\"Z1\":Z1,\n",
    "             \"A1\":A1,\n",
    "             \"Z2\":Z2,\n",
    "             \"A2\":A2}\n",
    "    return A2, cache"
   ]
  },
  {
   "cell_type": "code",
   "execution_count": 18,
   "id": "decent-procedure",
   "metadata": {},
   "outputs": [],
   "source": [
    "def cross_entropy(A2, Y, parameters):\n",
    "    m = Y.shape[1] # no. of training examples\n",
    "    logprobs = np.multiply(np.log(A2),Y) + np.multiply((1-Y),np.log(1-A2))\n",
    "    cost = - np.sum(logprobs) / m\n",
    "    cost = float(np.squeeze(cost))\n",
    "    return cost"
   ]
  },
  {
   "cell_type": "code",
   "execution_count": 19,
   "id": "narrative-journalist",
   "metadata": {},
   "outputs": [],
   "source": [
    "def backpropagation(parameters, cache, X,Y):\n",
    "    m = X.shape[1]\n",
    "    W1 = parameters['W1']\n",
    "    W2 = parameters['W2']\n",
    "    A1 = cache['A1']\n",
    "    A2 = cache['A2']\n",
    "    Z1 = cache['Z1']\n",
    "    \n",
    "    dZ2 = A2-Y\n",
    "    dW2 = (1/m) * np.dot(dZ2, A1.T)\n",
    "    db2 = (1/m) * np.sum(dZ2, axis=1, keepdims=True)\n",
    "    dA1 = np.dot(W2.T,dZ2)  # may occur error due to shape..try interchange\n",
    "    dZ1 = np.multiply(np.dot(W2.T, dZ2), 1 - np.power(A1, 2))\n",
    "    dW1 = (1/m) * np.dot(dZ1, X.T) \n",
    "    db1 = (1/m)*np.sum(dZ1, axis=1, keepdims=True)\n",
    "    dk0 = (1/m)*np.sum(dA1)\n",
    "    dk1 = (1/m)*np.multiply(dA1,Z1)\n",
    "    \n",
    "    grads = {\"dW1\": dW1, \"db1\": db1, \"dW2\": dW2,\"db2\": db2,\"dk0\":dk0,\"dk1\":dk1}\n",
    "    return grads"
   ]
  },
  {
   "cell_type": "code",
   "execution_count": 20,
   "id": "exciting-awareness",
   "metadata": {},
   "outputs": [],
   "source": [
    "def gradient_descent(parameters, grads, learning_rate = 0.01):\n",
    "    W1 = parameters['W1']\n",
    "    b1 = parameters['b1']\n",
    "    W2 = parameters['W2']\n",
    "    b2 = parameters['b2']\n",
    "    k0 = parameters['k0']\n",
    "    k1 = parameters['k1']\n",
    "   \n",
    "    dW1 = grads['dW1']\n",
    "    db1 = grads['db1']\n",
    "    dW2 = grads['dW2']\n",
    "    db2 = grads['db2']\n",
    "    dk0 = grads['dk0']\n",
    "    dk1 = grads['dk1']\n",
    "    W1 = W1 - learning_rate * dW1\n",
    "    b1 = b1 - learning_rate * db1\n",
    "    W2 = W2 - learning_rate * dW2\n",
    "    b2 = b2 - learning_rate * db2\n",
    "    k0 = k0 - learning_rate * dk0\n",
    "    k1 = k1 - learning_rate * dk1\n",
    "    \n",
    "    parameters = {\"W1\": W1, \"b1\": b1,\"W2\": W2,\"b2\": b2,\"k0\":k0,\"k1\":k1}\n",
    "    \n",
    "    return parameters"
   ]
  },
  {
   "cell_type": "code",
   "execution_count": 21,
   "id": "acoustic-sigma",
   "metadata": {},
   "outputs": [
    {
     "name": "stdout",
     "output_type": "stream",
     "text": [
      "Cost after iteration 0: 0.688804\n",
      "Cost after iteration 5: 0.688650\n",
      "Cost after iteration 10: 0.688506\n",
      "Cost after iteration 15: 0.688371\n",
      "Cost after iteration 20: 0.688245\n",
      "Cost after iteration 25: 0.688128\n",
      "Cost after iteration 30: 0.688018\n",
      "Cost after iteration 35: 0.687915\n",
      "Cost after iteration 40: 0.687819\n",
      "Cost after iteration 45: 0.687728\n",
      "Cost after iteration 50: 0.687642\n",
      "Cost after iteration 55: 0.687560\n",
      "Cost after iteration 60: 0.687482\n",
      "Cost after iteration 65: 0.687406\n",
      "Cost after iteration 70: 0.687333\n",
      "Cost after iteration 75: 0.687262\n",
      "Cost after iteration 80: 0.687191\n",
      "Cost after iteration 85: 0.687120\n",
      "Cost after iteration 90: 0.687050\n",
      "Cost after iteration 95: 0.686978\n",
      "Cost after iteration 100: 0.686906\n",
      "Cost after iteration 105: 0.686832\n",
      "Cost after iteration 110: 0.686756\n",
      "Cost after iteration 115: 0.686677\n",
      "Cost after iteration 120: 0.686597\n",
      "Cost after iteration 125: 0.686513\n",
      "Cost after iteration 130: 0.686426\n",
      "Cost after iteration 135: 0.686337\n",
      "Cost after iteration 140: 0.686244\n",
      "Cost after iteration 145: 0.686147\n",
      "Cost after iteration 150: 0.686047\n",
      "Cost after iteration 155: 0.685944\n",
      "Cost after iteration 160: 0.685837\n",
      "Cost after iteration 165: 0.685726\n",
      "Cost after iteration 170: 0.685610\n",
      "Cost after iteration 175: 0.685491\n",
      "Cost after iteration 180: 0.685367\n",
      "Cost after iteration 185: 0.685237\n",
      "Cost after iteration 190: 0.685102\n",
      "Cost after iteration 195: 0.684961\n",
      "Cost after iteration 200: 0.684812\n",
      "Cost after iteration 205: 0.684655\n",
      "Cost after iteration 210: 0.684488\n",
      "Cost after iteration 215: 0.684310\n",
      "Cost after iteration 220: 0.684119\n",
      "Cost after iteration 225: 0.683912\n",
      "Cost after iteration 230: 0.683687\n",
      "Cost after iteration 235: 0.683439\n",
      "Cost after iteration 240: 0.683165\n",
      "Cost after iteration 245: 0.682859\n",
      "Cost after iteration 250: 0.682515\n",
      "Cost after iteration 255: 0.682124\n",
      "Cost after iteration 260: 0.681676\n",
      "Cost after iteration 265: 0.681158\n",
      "Cost after iteration 270: 0.680555\n",
      "Cost after iteration 275: 0.679844\n",
      "Cost after iteration 280: 0.678998\n",
      "Cost after iteration 285: 0.677980\n",
      "Cost after iteration 290: 0.676739\n",
      "Cost after iteration 295: 0.675205\n",
      "Cost after iteration 300: 0.673279\n",
      "Cost after iteration 305: 0.670821\n",
      "Cost after iteration 310: 0.667622\n",
      "Cost after iteration 315: 0.663377\n",
      "Cost after iteration 320: 0.657633\n",
      "Cost after iteration 325: 0.649764\n",
      "Cost after iteration 330: 0.639042\n",
      "Cost after iteration 335: 0.625113\n",
      "Cost after iteration 340: 0.609122\n",
      "Cost after iteration 345: 0.594163\n",
      "Cost after iteration 350: 0.582498\n",
      "Cost after iteration 355: 0.573145\n",
      "Cost after iteration 360: 0.564227\n",
      "Cost after iteration 365: 0.555105\n",
      "Cost after iteration 370: 0.545996\n",
      "Cost after iteration 375: 0.537248\n",
      "Cost after iteration 380: 0.529090\n",
      "Cost after iteration 385: 0.521642\n",
      "Cost after iteration 390: 0.514959\n",
      "Cost after iteration 395: 0.509067\n",
      "Cost after iteration 400: 0.503982\n",
      "Cost after iteration 405: 0.499714\n",
      "Cost after iteration 410: 0.496272\n",
      "Cost after iteration 415: 0.493658\n",
      "Cost after iteration 420: 0.491869\n",
      "Cost after iteration 425: 0.490891\n",
      "Cost after iteration 430: 0.490686\n",
      "Cost after iteration 435: 0.491193\n",
      "Cost after iteration 440: 0.492320\n",
      "Cost after iteration 445: 0.493949\n",
      "Cost after iteration 450: 0.495950\n",
      "Cost after iteration 455: 0.498189\n",
      "Cost after iteration 460: 0.500546\n",
      "Cost after iteration 465: 0.502918\n",
      "Cost after iteration 470: 0.505227\n",
      "Cost after iteration 475: 0.507418\n",
      "Cost after iteration 480: 0.509453\n",
      "Cost after iteration 485: 0.519361\n",
      "Cost after iteration 490: nan\n",
      "Cost after iteration 495: nan\n",
      "Cost after iteration 500: nan\n",
      "Cost after iteration 505: nan\n",
      "Cost after iteration 510: nan\n",
      "Cost after iteration 515: nan\n",
      "Cost after iteration 520: nan\n",
      "Cost after iteration 525: nan\n",
      "Cost after iteration 530: nan\n",
      "Cost after iteration 535: nan\n",
      "Cost after iteration 540: nan\n",
      "Cost after iteration 545: nan\n",
      "Cost after iteration 550: nan\n",
      "Cost after iteration 555: nan\n",
      "Cost after iteration 560: nan\n",
      "Cost after iteration 565: nan\n",
      "Cost after iteration 570: nan\n",
      "Cost after iteration 575: nan\n",
      "Cost after iteration 580: nan\n",
      "Cost after iteration 585: nan\n",
      "Cost after iteration 590: nan\n",
      "Cost after iteration 595: nan\n",
      "Cost after iteration 600: nan\n",
      "Cost after iteration 605: nan\n",
      "Cost after iteration 610: nan\n",
      "Cost after iteration 615: nan\n",
      "Cost after iteration 620: nan\n",
      "Cost after iteration 625: nan\n",
      "Cost after iteration 630: nan\n",
      "Cost after iteration 635: nan\n",
      "Cost after iteration 640: nan\n",
      "Cost after iteration 645: nan\n",
      "Cost after iteration 650: nan\n",
      "Cost after iteration 655: nan\n",
      "Cost after iteration 660: nan\n",
      "Cost after iteration 665: nan\n",
      "Cost after iteration 670: nan\n",
      "Cost after iteration 675: nan\n",
      "Cost after iteration 680: nan\n",
      "Cost after iteration 685: nan\n",
      "Cost after iteration 690: nan\n",
      "Cost after iteration 695: nan\n",
      "Cost after iteration 700: nan\n",
      "Cost after iteration 705: nan\n",
      "Cost after iteration 710: nan\n",
      "Cost after iteration 715: nan\n",
      "Cost after iteration 720: nan\n",
      "Cost after iteration 725: nan\n",
      "Cost after iteration 730: nan\n",
      "Cost after iteration 735: nan\n",
      "Cost after iteration 740: nan\n",
      "Cost after iteration 745: nan\n",
      "Cost after iteration 750: nan\n",
      "Cost after iteration 755: nan\n"
     ]
    },
    {
     "name": "stderr",
     "output_type": "stream",
     "text": [
      "<ipython-input-18-5c7f9288a135>:3: RuntimeWarning: divide by zero encountered in log\n",
      "  logprobs = np.multiply(np.log(A2),Y) + np.multiply((1-Y),np.log(1-A2))\n",
      "<ipython-input-18-5c7f9288a135>:3: RuntimeWarning: invalid value encountered in multiply\n",
      "  logprobs = np.multiply(np.log(A2),Y) + np.multiply((1-Y),np.log(1-A2))\n",
      "<ipython-input-17-a51cc0c3ca15>:2: RuntimeWarning: overflow encountered in exp\n",
      "  return 1/(1+np.exp(-z))\n",
      "<ipython-input-19-4906448e69a3>:13: RuntimeWarning: overflow encountered in power\n",
      "  dZ1 = np.multiply(np.dot(W2.T, dZ2), 1 - np.power(A1, 2))\n",
      "<ipython-input-19-4906448e69a3>:13: RuntimeWarning: invalid value encountered in multiply\n",
      "  dZ1 = np.multiply(np.dot(W2.T, dZ2), 1 - np.power(A1, 2))\n",
      "/home/pradyumna/anaconda3/envs/ml_dl/lib/python3.8/site-packages/numpy/core/fromnumeric.py:87: RuntimeWarning: invalid value encountered in reduce\n",
      "  return ufunc.reduce(obj, axis, dtype, out, **passkwargs)\n"
     ]
    },
    {
     "name": "stdout",
     "output_type": "stream",
     "text": [
      "Cost after iteration 760: nan\n",
      "Cost after iteration 765: nan\n",
      "Cost after iteration 770: nan\n",
      "Cost after iteration 775: nan\n",
      "Cost after iteration 780: nan\n",
      "Cost after iteration 785: nan\n",
      "Cost after iteration 790: nan\n",
      "Cost after iteration 795: nan\n",
      "Cost after iteration 800: nan\n",
      "Cost after iteration 805: nan\n",
      "Cost after iteration 810: nan\n",
      "Cost after iteration 815: nan\n",
      "Cost after iteration 820: nan\n",
      "Cost after iteration 825: nan\n",
      "Cost after iteration 830: nan\n",
      "Cost after iteration 835: nan\n",
      "Cost after iteration 840: nan\n",
      "Cost after iteration 845: nan\n",
      "Cost after iteration 850: nan\n",
      "Cost after iteration 855: nan\n",
      "Cost after iteration 860: nan\n",
      "Cost after iteration 865: nan\n",
      "Cost after iteration 870: nan\n",
      "Cost after iteration 875: nan\n",
      "Cost after iteration 880: nan\n",
      "Cost after iteration 885: nan\n",
      "Cost after iteration 890: nan\n",
      "Cost after iteration 895: nan\n",
      "Cost after iteration 900: nan\n",
      "Cost after iteration 905: nan\n",
      "Cost after iteration 910: nan\n",
      "Cost after iteration 915: nan\n",
      "Cost after iteration 920: nan\n",
      "Cost after iteration 925: nan\n",
      "Cost after iteration 930: nan\n",
      "Cost after iteration 935: nan\n",
      "Cost after iteration 940: nan\n",
      "Cost after iteration 945: nan\n",
      "Cost after iteration 950: nan\n",
      "Cost after iteration 955: nan\n",
      "Cost after iteration 960: nan\n",
      "Cost after iteration 965: nan\n",
      "Cost after iteration 970: nan\n",
      "Cost after iteration 975: nan\n",
      "Cost after iteration 980: nan\n",
      "Cost after iteration 985: nan\n",
      "Cost after iteration 990: nan\n",
      "Cost after iteration 995: nan\n"
     ]
    }
   ],
   "source": [
    "def neural_network_model(X, Y, hidden_unit, num_iterations = 1000):\n",
    "    np.random.seed(3)\n",
    "    input_unit = model(X, Y)[0]\n",
    "    output_unit = model(X, Y)[2]\n",
    "    \n",
    "    parameters = parameter_declare(input_unit, hidden_unit, output_unit)\n",
    "   \n",
    "    W1 = parameters['W1']\n",
    "    b1 = parameters['b1']\n",
    "    W2 = parameters['W2']\n",
    "    b2 = parameters['b2']\n",
    "    k0 = parameters['k0']\n",
    "    k1 = parameters['k1']\n",
    "    \n",
    "    for i in range(0, num_iterations):\n",
    "        A2, cache = forward_propagation(X, parameters)\n",
    "        cost = cross_entropy(A2, Y, parameters)\n",
    "        grads = backpropagation(parameters, cache, X, Y)\n",
    "        parameters = gradient_descent(parameters, grads)\n",
    "        if i % 5 == 0:\n",
    "            print (\"Cost after iteration %i: %f\" %(i, cost))\n",
    "    return parameters\n",
    "\n",
    "parameters = neural_network_model(X_train, y_train, 4, \n",
    "                                  num_iterations=1000)"
   ]
  },
  {
   "cell_type": "code",
   "execution_count": null,
   "id": "dirty-snapshot",
   "metadata": {},
   "outputs": [],
   "source": []
  }
 ],
 "metadata": {
  "kernelspec": {
   "display_name": "ml_dl",
   "language": "python",
   "name": "ml_dl"
  },
  "language_info": {
   "codemirror_mode": {
    "name": "ipython",
    "version": 3
   },
   "file_extension": ".py",
   "mimetype": "text/x-python",
   "name": "python",
   "nbconvert_exporter": "python",
   "pygments_lexer": "ipython3",
   "version": "3.8.0"
  }
 },
 "nbformat": 4,
 "nbformat_minor": 5
}
